{
 "cells": [
  {
   "cell_type": "code",
   "execution_count": 1,
   "id": "c983387f",
   "metadata": {},
   "outputs": [],
   "source": [
    "from langchain_groq import ChatGroq\n"
   ]
  },
  {
   "cell_type": "code",
   "execution_count": 3,
   "id": "c576cdbd",
   "metadata": {},
   "outputs": [
    {
     "name": "stdout",
     "output_type": "stream",
     "text": [
      "The first person to land on the moon was Neil Armstrong. He stepped out of the lunar module Eagle and onto the moon's surface on July 20, 1969, during the Apollo 11 mission. Armstrong famously declared, \"That's one small step for man, one giant leap for mankind,\" as he became the first human to set foot on the moon.\n"
     ]
    }
   ],
   "source": [
    "llm = ChatGroq(\n",
    "    temperature = 0,\n",
    "    groq_api_key='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',\n",
    "    model_name = 'llama-3.3-70b-versatile'\n",
    ")\n",
    "response = llm.invoke(\"the First person to land on moon was..\")\n",
    "print(response.content)"
   ]
  },
  {
   "cell_type": "code",
   "execution_count": 14,
   "id": "73cba28e",
   "metadata": {},
   "outputs": [
    {
     "name": "stdout",
     "output_type": "stream",
     "text": [
      "Machine Learning Engineer in ChicagoBlogs Pricing MVP Testimonials About News LoginLoginBlogsPricingMVPTestimonialsAboutNewsMachine Learning Engineer in ChicagoMozilla.ai Full Time  168 days ago ApplyJob DescriptionJob Title: Machine Learning Engineer (Remote)Company: Mozilla.aiJob Type: Full-TimeExperience: Strong background in machine learning and software engineeringSalary: Competitive salary, with generous performance-based bonus plansLocation: Remote (Europe, East Coast of USA, Canada)About Mozilla.ai:Mozilla.ai is pioneering the Artificial Intelligence revolution with a commitment to open-source principles. Our mission is to empower developers to build scalable and trustworthy AI solutions. Through our Lumigator model selection platform and open-source AI Hub, we drive innovation and responsible AI practices. Join us in shaping a future of AI defined by user agency, trustworthiness, and transparency.Position Overview:We are looking for a skilled Machine Learning Engineer to join our remote team. This role involves working on our open-source LLM evaluation platform, focusing on model validation, selection, and deployment. You will develop tools for model management, collaborate on machine learning pipelines, and engage in end-to-end product engineering.Key Responsibilities:Tool Development: Create tools for managing and evaluating machine learning models.Pipeline Engineering: Design and build end-to-end machine learning pipelines on cloud infrastructure.Data Preparation: Prepare and preprocess datasets for model evaluation.Experiment Management: Conduct and oversee experiments related to model evaluation and training.Model Evaluation: Assess model performance using established metrics and techniques.Collaboration: Work with product management and platform engineering to deliver features.MLOps: Implement MLOps best practices for model deployment, monitoring, and maintenance.Stakeholder Engagement: Translate complex technical details into actionable insights for stakeholders.Product Lifecycle: Contribute to the entire product engineering lifecycle, from ideation to deployment.Qualifications:Machine Learning Expertise: Strong background in machine learning and software engineering.Open Source Experience: Comfortable with open-source development.Deep Learning Frameworks: Experience with frameworks like PyTorch is a plus.Data Processing: Familiar with large-scale dataset processing and data augmentation.Experiment Management: Experience with platforms like Weights and Biases, MLFlow, or KubeFlow.Python Proficiency: Strong skills in Python and relevant libraries.Cloud Experience: Comfortable with cloud technologies, containerization, and resource management.Communication Skills: Effective at translating technical concepts for non-technical audiences.Problem-Solving: Demonstrated ability to deliver high-quality, scalable solutions.Why Mozilla.ai?Purpose-Driven Mission: Contribute to transformative AI solutions with a focus on trustworthiness and responsibility.Innovation & Impact: Work on cutting-edge projects that make a real-world impact.Collaborative Culture: Join a distributed team with a collaborative and inclusive culture, meeting globally a few times a year.Remote Work: Enjoy the flexibility of a 100% remote role with support from an Employer of Record.Compensation, Benefits, and Perks:Premium Benefits: Core benefits tailored to your location, including health insurance and retirement plans.Paid Time-Off: 25 days per year.Bonus Plans: Generous performance-based bonuses.Home Office Stipend: One-time stipend of $1,000 USD.Professional Development: Annual budget for professional growth.Well-being Stipend: Annual stipend of $3,500 USD.Mozilla.ai is committed to building a diverse and inclusive team. We encourage applications from individuals of all backgrounds and identities.For any questions about the role or how to join our team, feel free to reach out!This job description is optimized for relevant keywords and provides a clear, engaging overview of the position and company.For all the Latest AI Jobs visit our platform.Similar Jobs‌‌‌‌‌ ‌‌‌‌ ‌‌‌‌‌‌‌‌‌‌‌ ‌‌‌‌ ‌‌‌‌‌‌‌‌‌‌‌ ‌‌‌‌ ‌‌‌‌‌‌‌‌‌‌‌ ‌‌‌‌ ‌‌‌‌‌‌‌‌‌‌‌ ‌‌‌‌ ‌‌‌‌‌‌No Featued Jobs Uploaded YetMillions Of JobsFind The One That'sRightFor YouUnlock a world of boundless possibilities and embark on a journey of innovation and advancement in the realms of Artificial Intelligence and Machine Learning. Our platform is your gateway to an array of career opportunities waiting to be discovered.Search jobsStay Informed, Stay Ahead.Subscribeto our newsletterSubscribe to our newsletter and unlock a world of opportunities! By joining our community, you'll receive the latest job openings, career tips, and industry insights directly in your inbox. Stay ahead of the competition, whether you're a job seeker searching for that perfect position or an employer looking to find the ideal candidate. Join us today, and let our platform be your trusted source for job-related updates and connections.SubscribeAny Queries?Feel free to drop us an email.hello@ml-jobs.aiAI-mployedCopyright © MLJobs 2024Terms of ServicePrivacy PoliciySitemapBlogsPricingPartnersTestimonialAboutSocialsInstagramLinkedInAnn ArborMichiganUnited StatesPost a JobEmployer LoginBack to top\n"
     ]
    }
   ],
   "source": [
    "#webscraping(webloader)\n",
    "from langchain_community.document_loaders import WebBaseLoader\n",
    "\n",
    "loader = WebBaseLoader(\"https://www.ml-jobs.ai/mozilla.ai/machine-learning-engineer-in-chicago\")#need-to-be-changed\n",
    "page_data = loader.load().pop().page_content\n",
    "print(page_data)"
   ]
  },
  {
   "cell_type": "code",
   "execution_count": 22,
   "id": "9fd06d28",
   "metadata": {},
   "outputs": [
    {
     "name": "stdout",
     "output_type": "stream",
     "text": [
      "```json\n",
      "{\n",
      "  \"role\": \"Machine Learning Engineer\",\n",
      "  \"experience\": \"Strong background in machine learning and software engineering\",\n",
      "  \"skills\": [\n",
      "    \"Machine Learning Expertise\",\n",
      "    \"Open Source Experience\",\n",
      "    \"Deep Learning Frameworks\",\n",
      "    \"Data Processing\",\n",
      "    \"Experiment Management\",\n",
      "    \"Python Proficiency\",\n",
      "    \"Cloud Experience\"\n",
      "  ],\n",
      "  \"description\": \"We are looking for a skilled Machine Learning Engineer to join our remote team. This role involves working on our open-source LLM evaluation platform, focusing on model validation, selection, and deployment. You will develop tools for model management, collaborate on machine learning pipelines, and engage in end-to-end product engineering.\"\n",
      "}\n",
      "```\n"
     ]
    }
   ],
   "source": [
    "from langchain_core.prompts import PromptTemplate\n",
    "\n",
    "prompt_extract = PromptTemplate.from_template(\n",
    "    \"\"\"\n",
    "    ###SCRAPED DATA\n",
    "    {page_data}\n",
    "    ### INSTRUCTION\n",
    "    the scraped text is from the carrer's page of a website.\n",
    "    your job is to extract the job postings and retur them in JSON format containing \n",
    "    following keys:'role','experience','skills' and 'description'.\n",
    "    Only return the valid JSON.\n",
    "    ### VALID JSON(NO PREAMBLE):\n",
    "    \"\"\"\n",
    ")\n",
    "chain_extract = prompt_extract | llm\n",
    "res = chain_extract.invoke(input={'page_data':page_data})\n",
    "print(res.content)"
   ]
  },
  {
   "cell_type": "code",
   "execution_count": 23,
   "id": "9b26a90b",
   "metadata": {},
   "outputs": [
    {
     "data": {
      "text/plain": [
       "str"
      ]
     },
     "execution_count": 23,
     "metadata": {},
     "output_type": "execute_result"
    }
   ],
   "source": [
    "type(res.content)"
   ]
  },
  {
   "cell_type": "markdown",
   "id": "abf9664c",
   "metadata": {},
   "source": [
    "#### convert the res.content type into json/dict"
   ]
  },
  {
   "cell_type": "code",
   "execution_count": 24,
   "id": "fb079015",
   "metadata": {},
   "outputs": [
    {
     "data": {
      "text/plain": [
       "{'role': 'Machine Learning Engineer',\n",
       " 'experience': 'Strong background in machine learning and software engineering',\n",
       " 'skills': ['Machine Learning Expertise',\n",
       "  'Open Source Experience',\n",
       "  'Deep Learning Frameworks',\n",
       "  'Data Processing',\n",
       "  'Experiment Management',\n",
       "  'Python Proficiency',\n",
       "  'Cloud Experience'],\n",
       " 'description': 'We are looking for a skilled Machine Learning Engineer to join our remote team. This role involves working on our open-source LLM evaluation platform, focusing on model validation, selection, and deployment. You will develop tools for model management, collaborate on machine learning pipelines, and engage in end-to-end product engineering.'}"
      ]
     },
     "execution_count": 24,
     "metadata": {},
     "output_type": "execute_result"
    }
   ],
   "source": [
    "from langchain_core.output_parsers import JsonOutputParser\n",
    "\n",
    "json_parser = JsonOutputParser()\n",
    "json_res = json_parser.parse(res.content)\n",
    "json_res"
   ]
  },
  {
   "cell_type": "code",
   "execution_count": 27,
   "id": "e8cfaa5c",
   "metadata": {},
   "outputs": [
    {
     "data": {
      "text/plain": [
       "dict"
      ]
     },
     "execution_count": 27,
     "metadata": {},
     "output_type": "execute_result"
    }
   ],
   "source": [
    "type(json_res)"
   ]
  },
  {
   "cell_type": "code",
   "execution_count": 30,
   "id": "4813dead",
   "metadata": {},
   "outputs": [
    {
     "data": {
      "text/html": [
       "<div>\n",
       "<style scoped>\n",
       "    .dataframe tbody tr th:only-of-type {\n",
       "        vertical-align: middle;\n",
       "    }\n",
       "\n",
       "    .dataframe tbody tr th {\n",
       "        vertical-align: top;\n",
       "    }\n",
       "\n",
       "    .dataframe thead th {\n",
       "        text-align: right;\n",
       "    }\n",
       "</style>\n",
       "<table border=\"1\" class=\"dataframe\">\n",
       "  <thead>\n",
       "    <tr style=\"text-align: right;\">\n",
       "      <th></th>\n",
       "      <th>Techstack</th>\n",
       "      <th>Links</th>\n",
       "    </tr>\n",
       "  </thead>\n",
       "  <tbody>\n",
       "    <tr>\n",
       "      <th>0</th>\n",
       "      <td>React, Node.js, MongoDB</td>\n",
       "      <td>https://example.com/react-portfolio</td>\n",
       "    </tr>\n",
       "    <tr>\n",
       "      <th>1</th>\n",
       "      <td>Angular,.NET, SQL Server</td>\n",
       "      <td>https://example.com/angular-portfolio</td>\n",
       "    </tr>\n",
       "    <tr>\n",
       "      <th>2</th>\n",
       "      <td>Vue.js, Ruby on Rails, PostgreSQL</td>\n",
       "      <td>https://example.com/vue-portfolio</td>\n",
       "    </tr>\n",
       "    <tr>\n",
       "      <th>3</th>\n",
       "      <td>Python, Django, MySQL</td>\n",
       "      <td>https://example.com/python-portfolio</td>\n",
       "    </tr>\n",
       "    <tr>\n",
       "      <th>4</th>\n",
       "      <td>Java, Spring Boot, Oracle</td>\n",
       "      <td>https://example.com/java-portfolio</td>\n",
       "    </tr>\n",
       "    <tr>\n",
       "      <th>5</th>\n",
       "      <td>Flutter, Firebase, GraphQL</td>\n",
       "      <td>https://example.com/flutter-portfolio</td>\n",
       "    </tr>\n",
       "    <tr>\n",
       "      <th>6</th>\n",
       "      <td>WordPress, PHP, MySQL</td>\n",
       "      <td>https://example.com/wordpress-portfolio</td>\n",
       "    </tr>\n",
       "    <tr>\n",
       "      <th>7</th>\n",
       "      <td>Magento, PHP, MySQL</td>\n",
       "      <td>https://example.com/magento-portfolio</td>\n",
       "    </tr>\n",
       "    <tr>\n",
       "      <th>8</th>\n",
       "      <td>React Native, Node.js, MongoDB</td>\n",
       "      <td>https://example.com/react-native-portfolio</td>\n",
       "    </tr>\n",
       "    <tr>\n",
       "      <th>9</th>\n",
       "      <td>iOS, Swift, Core Data</td>\n",
       "      <td>https://example.com/ios-portfolio</td>\n",
       "    </tr>\n",
       "    <tr>\n",
       "      <th>10</th>\n",
       "      <td>Android, Java, Room Persistence</td>\n",
       "      <td>https://example.com/android-portfolio</td>\n",
       "    </tr>\n",
       "    <tr>\n",
       "      <th>11</th>\n",
       "      <td>Kotlin, Android, Firebase</td>\n",
       "      <td>https://example.com/kotlin-android-portfolio</td>\n",
       "    </tr>\n",
       "    <tr>\n",
       "      <th>12</th>\n",
       "      <td>Android TV, Kotlin, Android NDK</td>\n",
       "      <td>https://example.com/android-tv-portfolio</td>\n",
       "    </tr>\n",
       "    <tr>\n",
       "      <th>13</th>\n",
       "      <td>iOS, Swift, ARKit</td>\n",
       "      <td>https://example.com/ios-ar-portfolio</td>\n",
       "    </tr>\n",
       "    <tr>\n",
       "      <th>14</th>\n",
       "      <td>Cross-platform, Xamarin, Azure</td>\n",
       "      <td>https://example.com/xamarin-portfolio</td>\n",
       "    </tr>\n",
       "    <tr>\n",
       "      <th>15</th>\n",
       "      <td>Backend, Kotlin, Spring Boot</td>\n",
       "      <td>https://example.com/kotlin-backend-portfolio</td>\n",
       "    </tr>\n",
       "    <tr>\n",
       "      <th>16</th>\n",
       "      <td>Frontend, TypeScript, Angular</td>\n",
       "      <td>https://example.com/typescript-frontend-portfolio</td>\n",
       "    </tr>\n",
       "    <tr>\n",
       "      <th>17</th>\n",
       "      <td>Full-stack, JavaScript, Express.js</td>\n",
       "      <td>https://example.com/full-stack-js-portfolio</td>\n",
       "    </tr>\n",
       "    <tr>\n",
       "      <th>18</th>\n",
       "      <td>Machine Learning, Python, TensorFlow</td>\n",
       "      <td>https://example.com/ml-python-portfolio</td>\n",
       "    </tr>\n",
       "    <tr>\n",
       "      <th>19</th>\n",
       "      <td>DevOps, Jenkins, Docker</td>\n",
       "      <td>https://example.com/devops-portfolio</td>\n",
       "    </tr>\n",
       "  </tbody>\n",
       "</table>\n",
       "</div>"
      ],
      "text/plain": [
       "                               Techstack  \\\n",
       "0                React, Node.js, MongoDB   \n",
       "1               Angular,.NET, SQL Server   \n",
       "2      Vue.js, Ruby on Rails, PostgreSQL   \n",
       "3                  Python, Django, MySQL   \n",
       "4              Java, Spring Boot, Oracle   \n",
       "5             Flutter, Firebase, GraphQL   \n",
       "6                  WordPress, PHP, MySQL   \n",
       "7                    Magento, PHP, MySQL   \n",
       "8         React Native, Node.js, MongoDB   \n",
       "9                  iOS, Swift, Core Data   \n",
       "10       Android, Java, Room Persistence   \n",
       "11             Kotlin, Android, Firebase   \n",
       "12       Android TV, Kotlin, Android NDK   \n",
       "13                     iOS, Swift, ARKit   \n",
       "14        Cross-platform, Xamarin, Azure   \n",
       "15          Backend, Kotlin, Spring Boot   \n",
       "16         Frontend, TypeScript, Angular   \n",
       "17    Full-stack, JavaScript, Express.js   \n",
       "18  Machine Learning, Python, TensorFlow   \n",
       "19               DevOps, Jenkins, Docker   \n",
       "\n",
       "                                                Links  \n",
       "0                 https://example.com/react-portfolio  \n",
       "1               https://example.com/angular-portfolio  \n",
       "2                   https://example.com/vue-portfolio  \n",
       "3                https://example.com/python-portfolio  \n",
       "4                  https://example.com/java-portfolio  \n",
       "5               https://example.com/flutter-portfolio  \n",
       "6             https://example.com/wordpress-portfolio  \n",
       "7               https://example.com/magento-portfolio  \n",
       "8          https://example.com/react-native-portfolio  \n",
       "9                   https://example.com/ios-portfolio  \n",
       "10              https://example.com/android-portfolio  \n",
       "11       https://example.com/kotlin-android-portfolio  \n",
       "12           https://example.com/android-tv-portfolio  \n",
       "13               https://example.com/ios-ar-portfolio  \n",
       "14              https://example.com/xamarin-portfolio  \n",
       "15       https://example.com/kotlin-backend-portfolio  \n",
       "16  https://example.com/typescript-frontend-portfolio  \n",
       "17        https://example.com/full-stack-js-portfolio  \n",
       "18            https://example.com/ml-python-portfolio  \n",
       "19               https://example.com/devops-portfolio  "
      ]
     },
     "execution_count": 30,
     "metadata": {},
     "output_type": "execute_result"
    }
   ],
   "source": [
    "import pandas as pd\n",
    "\n",
    "df = pd.read_csv('my_portfolio.csv')\n",
    "df"
   ]
  },
  {
   "cell_type": "code",
   "execution_count": 35,
   "id": "73442b2d",
   "metadata": {},
   "outputs": [],
   "source": [
    "import uuid\n",
    "import chromadb\n",
    "\n",
    "client = chromadb.PersistentClient('vectorstore')\n",
    "collection = client.get_or_create_collection(name=\"portfolio\")\n",
    "\n",
    "if not collection.count():\n",
    "    for _, row in df.iterrows():\n",
    "        collection.add(documents=row[\"Techstack\"],\n",
    "                       metadatas={\"links\": row[\"Links\"]},\n",
    "                       ids=[str(uuid.uuid4())])"
   ]
  },
  {
   "cell_type": "code",
   "execution_count": 36,
   "id": "359f5122",
   "metadata": {},
   "outputs": [
    {
     "data": {
      "text/plain": [
       "[[{'links': 'https://example.com/ml-python-portfolio'},\n",
       "  {'links': 'https://example.com/python-portfolio'}],\n",
       " [{'links': 'https://example.com/react-portfolio'},\n",
       "  {'links': 'https://example.com/react-native-portfolio'}]]"
      ]
     },
     "execution_count": 36,
     "metadata": {},
     "output_type": "execute_result"
    }
   ],
   "source": [
    "links = collection.query(query_texts=['Experience in python','expertise in react navtive'], n_results=2).get('metadatas', [])\n",
    "links"
   ]
  },
  {
   "cell_type": "code",
   "execution_count": 40,
   "id": "ca531b0b",
   "metadata": {},
   "outputs": [
    {
     "data": {
      "text/plain": [
       "{'role': 'Machine Learning Engineer',\n",
       " 'experience': 'Strong background in machine learning and software engineering',\n",
       " 'skills': ['Machine Learning Expertise',\n",
       "  'Open Source Experience',\n",
       "  'Deep Learning Frameworks',\n",
       "  'Data Processing',\n",
       "  'Experiment Management',\n",
       "  'Python Proficiency',\n",
       "  'Cloud Experience'],\n",
       " 'description': 'We are looking for a skilled Machine Learning Engineer to join our remote team. This role involves working on our open-source LLM evaluation platform, focusing on model validation, selection, and deployment. You will develop tools for model management, collaborate on machine learning pipelines, and engage in end-to-end product engineering.'}"
      ]
     },
     "execution_count": 40,
     "metadata": {},
     "output_type": "execute_result"
    }
   ],
   "source": [
    "job"
   ]
  },
  {
   "cell_type": "code",
   "execution_count": 37,
   "id": "0df488cf",
   "metadata": {},
   "outputs": [
    {
     "data": {
      "text/plain": [
       "['Machine Learning Expertise',\n",
       " 'Open Source Experience',\n",
       " 'Deep Learning Frameworks',\n",
       " 'Data Processing',\n",
       " 'Experiment Management',\n",
       " 'Python Proficiency',\n",
       " 'Cloud Experience']"
      ]
     },
     "execution_count": 37,
     "metadata": {},
     "output_type": "execute_result"
    }
   ],
   "source": [
    "job = json_res\n",
    "job['skills']"
   ]
  },
  {
   "cell_type": "code",
   "execution_count": 39,
   "id": "a0d1601b",
   "metadata": {},
   "outputs": [
    {
     "data": {
      "text/plain": [
       "[[{'links': 'https://example.com/ml-python-portfolio'},\n",
       "  {'links': 'https://example.com/python-portfolio'}],\n",
       " [{'links': 'https://example.com/magento-portfolio'},\n",
       "  {'links': 'https://example.com/wordpress-portfolio'}],\n",
       " [{'links': 'https://example.com/ml-python-portfolio'},\n",
       "  {'links': 'https://example.com/ios-ar-portfolio'}],\n",
       " [{'links': 'https://example.com/ml-python-portfolio'},\n",
       "  {'links': 'https://example.com/magento-portfolio'}],\n",
       " [{'links': 'https://example.com/devops-portfolio'},\n",
       "  {'links': 'https://example.com/android-portfolio'}],\n",
       " [{'links': 'https://example.com/ml-python-portfolio'},\n",
       "  {'links': 'https://example.com/python-portfolio'}],\n",
       " [{'links': 'https://example.com/xamarin-portfolio'},\n",
       "  {'links': 'https://example.com/devops-portfolio'}]]"
      ]
     },
     "execution_count": 39,
     "metadata": {},
     "output_type": "execute_result"
    }
   ],
   "source": [
    "links = collection.query(query_texts=job['skills'], n_results=2).get('metadatas', [])\n",
    "links"
   ]
  },
  {
   "cell_type": "code",
   "execution_count": null,
   "id": "d3e335de",
   "metadata": {},
   "outputs": [],
   "source": [
    "prompt_email = PromptTemplate.from_template(\n",
    "        \"\"\"\n",
    "        ### JOB DESCRIPTION:\n",
    "        {job_description}\n",
    "        \n",
    "        ### INSTRUCTION:\n",
    "        You are Mohan, a business development executive at AtliQ. AtliQ is an AI & Software Consulting company dedicated to facilitating\n",
    "        the seamless integration of business processes through automated tools. \n",
    "        Over our experience, we have empowered numerous enterprises with tailored solutions, fostering scalability, \n",
    "        process optimization, cost reduction, and heightened overall efficiency. \n",
    "        Your job is to write a cold email to the client regarding the job mentioned above describing the capability of AtliQ \n",
    "        in fulfilling their needs.\n",
    "        Also add the most relevant ones from the following links to showcase Atliq's portfolio: {link_list}\n",
    "        Remember you are Mohan, BDE at AtliQ. \n",
    "        Do not provide a preamble.\n",
    "        ### EMAIL (NO PREAMBLE):\n",
    "        \n",
    "        \"\"\"\n",
    "        )\n",
    "\n",
    "chain_email = prompt_email | llm\n",
    "res = chain_email.invoke({\"job_description\": str(job), \"link_list\": links})\n",
    "print(res.content)"
   ]
  },
  {
   "cell_type": "code",
   "execution_count": 43,
   "id": "ae92b456",
   "metadata": {},
   "outputs": [
    {
     "name": "stdout",
     "output_type": "stream",
     "text": [
      "Subject: Expert Machine Learning Solutions for Your LLM Evaluation Platform\n",
      "\n",
      "Dear Hiring Manager,\n",
      "\n",
      "I am Shruti, a Business Development Executive at AtliQ, an AI & Software Consulting company that specializes in helping businesses integrate automated tools to optimize processes, reduce costs, and improve efficiency. Our team of experts has a strong background in machine learning and software engineering, making us an ideal fit for your Machine Learning Engineer role.\n",
      "\n",
      "We understand that you are looking for a skilled professional to work on your open-source LLM evaluation platform, focusing on model validation, selection, and deployment. At AtliQ, we have extensive experience in developing tools for model management, collaborating on machine learning pipelines, and engaging in end-to-end product engineering. Our expertise in machine learning, deep learning frameworks, and data processing can help you achieve your goals.\n",
      "\n",
      "Our portfolio showcases our capabilities in machine learning and Python development, with notable projects including:\n",
      "- https://example.com/ml-python-portfolio\n",
      "- https://example.com/python-portfolio\n",
      "- https://example.com/devops-portfolio\n",
      "\n",
      "These projects demonstrate our ability to design and implement scalable, efficient, and reliable machine learning solutions. We are confident that our team can make a significant contribution to your LLM evaluation platform.\n",
      "\n",
      "I would like to invite you to discuss how AtliQ can help you achieve your goals. Please let's schedule a call to explore how our expertise can support your project. You can reach me at your convenience, and I look forward to the opportunity to collaborate.\n",
      "\n",
      "Best regards,\n",
      "\n",
      "Shruti\n",
      "Business Development Executive\n",
      "AtliQ\n"
     ]
    }
   ],
   "source": [
    "prompt_email = PromptTemplate.from_template(\n",
    "    \"\"\"\n",
    "    ### JOB DESCRIPTION:\n",
    "    {job_description}\n",
    "\n",
    "    ### INSTRUCTION:\n",
    "    You are Shruti, a Business Development Executive at AtliQ. AtliQ is an AI & Software Consulting company that specializes in helping businesses integrate automated tools to optimize processes, reduce costs, and improve efficiency. Your task is to write a professional and persuasive cold email to the client regarding the job mentioned above. \n",
    "\n",
    "    In the email:\n",
    "    1. Introduce AtliQ and its expertise in AI and software consulting.\n",
    "    2. Highlight how AtliQ can address the specific needs mentioned in the job description.\n",
    "    3. add the most relevant ones from the following links to showcase Atliq's portfolio: {link_list}\n",
    "    4. End with a call-to-action, inviting the client to discuss how AtliQ can help them achieve their goals.\n",
    "\n",
    "    Keep the tone professional, concise, and tailored to the client's needs. Do not provide a preamble.\n",
    "\n",
    "    ### EMAIL (NO PREAMBLE):\n",
    "    \"\"\"\n",
    ")\n",
    "\n",
    "chain_email = prompt_email | llm\n",
    "res = chain_email.invoke({\"job_description\": str(job), \"link_list\": links})\n",
    "print(res.content)"
   ]
  },
  {
   "cell_type": "code",
   "execution_count": null,
   "id": "844b0ed2",
   "metadata": {},
   "outputs": [],
   "source": []
  },
  {
   "cell_type": "code",
   "execution_count": null,
   "id": "4fd06c78",
   "metadata": {},
   "outputs": [],
   "source": []
  },
  {
   "cell_type": "code",
   "execution_count": null,
   "id": "8c1da9ca",
   "metadata": {},
   "outputs": [],
   "source": []
  },
  {
   "cell_type": "code",
   "execution_count": null,
   "id": "b03ae489",
   "metadata": {},
   "outputs": [],
   "source": []
  },
  {
   "cell_type": "code",
   "execution_count": null,
   "id": "9011a917",
   "metadata": {},
   "outputs": [],
   "source": []
  },
  {
   "cell_type": "code",
   "execution_count": null,
   "id": "32570713",
   "metadata": {},
   "outputs": [],
   "source": []
  },
  {
   "cell_type": "markdown",
   "id": "63340eb6",
   "metadata": {},
   "source": [
    "{\n",
    "  \"role\": \"Machine Learning Engineer (Remote)\",\n",
    "  \"description\": \"Mozilla.ai is seeking a Machine Learning Engineer to join their remote team. The role involves working on an open-source LLM evaluation platform, focusing on model validation, selection, and deployment. Responsibilities include developing tools for model management, building machine learning pipelines, and contributing to end-to-end product engineering. The position offers a competitive salary, performance-based bonuses, and a range of benefits.\",\n",
    "  \"skills\": [\n",
    "    \"Machine learning and software engineering\",\n",
    "    \"Open-source development\",\n",
    "    \"Deep learning frameworks (e.g., PyTorch)\",\n",
    "    \"Large-scale dataset processing and data augmentation\",\n",
    "    \"Experiment management (e.g., Weights and Biases, MLFlow, KubeFlow)\",\n",
    "    \"Python programming and relevant libraries\",\n",
    "    \"Cloud technologies and containerization\",\n",
    "    \"Resource management\",\n",
    "    \"Effective communication with non-technical audiences\",\n",
    "    \"Problem-solving and delivering scalable solutions\",\n",
    "    \"MLOps best practices\",\n",
    "    \"Model evaluation and performance assessment\",\n",
    "    \"Collaboration with product management and platform engineering\",\n",
    "    \"End-to-end product lifecycle contribution\"\n",
    "  ]\n",
    "}"
   ]
  }
 ],
 "metadata": {
  "kernelspec": {
   "display_name": "Python 3 (ipykernel)",
   "language": "python",
   "name": "python3"
  },
  "language_info": {
   "codemirror_mode": {
    "name": "ipython",
    "version": 3
   },
   "file_extension": ".py",
   "mimetype": "text/x-python",
   "name": "python",
   "nbconvert_exporter": "python",
   "pygments_lexer": "ipython3",
   "version": "3.11.0"
  }
 },
 "nbformat": 4,
 "nbformat_minor": 5
}
